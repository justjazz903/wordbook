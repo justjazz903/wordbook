{
 "cells": [
  {
   "cell_type": "code",
   "execution_count": null,
   "id": "13ab718e",
   "metadata": {},
   "outputs": [],
   "source": [
    "import pickle\n",
    "import numpy as np\n",
    "\n",
    "dict_path = './ielts_day_4.pickle'"
   ]
  },
  {
   "cell_type": "code",
   "execution_count": null,
   "id": "2b1d9ae3",
   "metadata": {},
   "outputs": [],
   "source": [
    "def get_dict(path=dict_path):\n",
    "    try:\n",
    "        with open(path, 'rb') as f:\n",
    "            d = pickle.load(f)\n",
    "    except:\n",
    "        d = dict()\n",
    "    return d\n",
    "\n",
    "def save_dict(d, path=dict_path):\n",
    "    with open(path, 'wb') as f:\n",
    "        pickle.dump(d, f)\n",
    "        \n",
    "def add_word():\n",
    "    d = get_dict()\n",
    "    print('input english word')\n",
    "    en = input()\n",
    "    if en in d.keys():\n",
    "        raise Exception(f'{en}:{d[en]} already in dictionary!')\n",
    "    print('input translation')\n",
    "    des = input()\n",
    "    d[en] = des\n",
    "    save_dict(d)\n",
    "    print('word added successfully.')\n",
    "    \n",
    "def review(mode):\n",
    "    d = get_dict()\n",
    "    words = list(d.keys())\n",
    "    total_len = len(words)\n",
    "    count = 1\n",
    "    while len(words) > 0:\n",
    "        word = np.random.choice(words)\n",
    "        print(f'{count} / {total_len}')\n",
    "        if mode == 'en2zh':\n",
    "            print(word)\n",
    "            ans = input()\n",
    "            print(f'Correct Answer: {d[word]}')\n",
    "            print()\n",
    "        elif mode == 'zh2en':\n",
    "            print(d[word])\n",
    "            ans = input()\n",
    "            print(f'Correct Answer: {word}')\n",
    "            print()\n",
    "        else:\n",
    "            raise Exception('mode can only be \\'en2zh\\' or \\'zh2en\\'')\n",
    "        words.remove(word)\n",
    "        count += 1"
   ]
  },
  {
   "cell_type": "code",
   "execution_count": null,
   "id": "9a22c487",
   "metadata": {},
   "outputs": [],
   "source": [
    "review('zh2en')"
   ]
  },
  {
   "cell_type": "code",
   "execution_count": null,
   "id": "06d46bc0",
   "metadata": {
    "scrolled": false
   },
   "outputs": [],
   "source": [
    "review('en2zh')"
   ]
  },
  {
   "cell_type": "code",
   "execution_count": null,
   "id": "9d6d5427",
   "metadata": {},
   "outputs": [],
   "source": [
    "while True:\n",
    "    add_word()"
   ]
  },
  {
   "cell_type": "code",
   "execution_count": null,
   "id": "a9b302b3",
   "metadata": {},
   "outputs": [],
   "source": [
    "# d = get_dict()\n",
    "# del d['nuisancee']\n",
    "# d['nuisance'] = 'n.令人讨厌的东西'\n",
    "# save_dict(d)"
   ]
  },
  {
   "cell_type": "code",
   "execution_count": null,
   "id": "9e08f1af",
   "metadata": {},
   "outputs": [],
   "source": []
  },
  {
   "cell_type": "code",
   "execution_count": null,
   "id": "c41b1134",
   "metadata": {},
   "outputs": [],
   "source": []
  }
 ],
 "metadata": {
  "kernelspec": {
   "display_name": "Python 3 (ipykernel)",
   "language": "python",
   "name": "python3"
  },
  "language_info": {
   "codemirror_mode": {
    "name": "ipython",
    "version": 3
   },
   "file_extension": ".py",
   "mimetype": "text/x-python",
   "name": "python",
   "nbconvert_exporter": "python",
   "pygments_lexer": "ipython3",
   "version": "3.10.0"
  }
 },
 "nbformat": 4,
 "nbformat_minor": 5
}
