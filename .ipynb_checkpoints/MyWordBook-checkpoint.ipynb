{
 "cells": [
  {
   "cell_type": "code",
   "execution_count": 1,
   "id": "13ab718e",
   "metadata": {},
   "outputs": [],
   "source": [
    "import pickle\n",
    "import numpy as np\n",
    "from IPython.display import clear_output\n",
    "from time import sleep\n",
    "\n",
    "dict_name = 'ielts_day_6'\n",
    "# dict_name = 'ielts_day_2_review'"
   ]
  },
  {
   "cell_type": "code",
   "execution_count": 2,
   "id": "2b1d9ae3",
   "metadata": {},
   "outputs": [],
   "source": [
    "if dict_name.split('_')[-1] != 'review':\n",
    "    reivew_name = dict_name + '_review'\n",
    "else:\n",
    "    reivew_name = dict_name\n",
    "dict_path = './' + dict_name + '.pickle'\n",
    "review_list_path = './' + reivew_name + '.pickle'\n",
    "\n",
    "def get_dict(path=dict_path):\n",
    "    try:\n",
    "        with open(path, 'rb') as f:\n",
    "            d = pickle.load(f)\n",
    "    except:\n",
    "        d = dict()\n",
    "    return d\n",
    "\n",
    "def save_dict(d, path=dict_path):\n",
    "    with open(path, 'wb') as f:\n",
    "        pickle.dump(d, f)\n",
    "        \n",
    "def add_word():\n",
    "    d = get_dict()\n",
    "    print(f'{len(d)} input english word')\n",
    "    en = input()\n",
    "    if en in d.keys():\n",
    "        raise Exception(f'{en}:{d[en]} already in dictionary!')\n",
    "    print('input translation')\n",
    "    des = input()\n",
    "    d[en] = des\n",
    "    save_dict(d)\n",
    "    print('word added successfully.')\n",
    "    \n",
    "def review():\n",
    "    review_list = dict()\n",
    "    d = get_dict()\n",
    "    words = list()\n",
    "    for word in d:\n",
    "        words.append((word, 0))\n",
    "        words.append((word, 1))\n",
    "    total_len = len(words)\n",
    "    count = 1\n",
    "    while len(words) > 0:\n",
    "        clear_output()\n",
    "        print(f'{count} / {total_len}')\n",
    "        word, flag = words[np.random.randint(0, len(words))]\n",
    "        if flag:\n",
    "            print(word)\n",
    "            sleep(0.1)\n",
    "            ans = input()\n",
    "            print(f'Correct Answer: {d[word]}')\n",
    "        else:\n",
    "            print(d[word])\n",
    "            sleep(0.1)\n",
    "            ans = input()\n",
    "            print(f'Correct Answer: {word}')\n",
    "        print('Add this word to review list?')\n",
    "        sleep(0.1)\n",
    "        ans = input()\n",
    "        if len(ans) > 0:\n",
    "            review_list[word] = d[word]\n",
    "        words.remove((word, flag))\n",
    "        count += 1\n",
    "    save_dict(review_list, review_list_path)"
   ]
  },
  {
   "cell_type": "code",
   "execution_count": 3,
   "id": "9a22c487",
   "metadata": {},
   "outputs": [
    {
     "name": "stdout",
     "output_type": "stream",
     "text": [
      "126 / 126\n",
      "v.启迪，教化\n",
      "lllll\n",
      "Correct Answer: enlighten\n",
      "Add this word to review list?\n",
      "\n"
     ]
    }
   ],
   "source": [
    "review()"
   ]
  },
  {
   "cell_type": "code",
   "execution_count": null,
   "id": "9d6d5427",
   "metadata": {},
   "outputs": [],
   "source": [
    "while True:\n",
    "    clear_output()\n",
    "    add_word()"
   ]
  },
  {
   "cell_type": "code",
   "execution_count": 10,
   "id": "a9b302b3",
   "metadata": {},
   "outputs": [],
   "source": [
    "d = get_dict()\n",
    "d['rote learning'] = '机械学习'\n",
    "save_dict(d)"
   ]
  },
  {
   "cell_type": "code",
   "execution_count": null,
   "id": "9e08f1af",
   "metadata": {},
   "outputs": [],
   "source": []
  },
  {
   "cell_type": "code",
   "execution_count": null,
   "id": "c41b1134",
   "metadata": {},
   "outputs": [],
   "source": []
  }
 ],
 "metadata": {
  "kernelspec": {
   "display_name": "Python 3 (ipykernel)",
   "language": "python",
   "name": "python3"
  },
  "language_info": {
   "codemirror_mode": {
    "name": "ipython",
    "version": 3
   },
   "file_extension": ".py",
   "mimetype": "text/x-python",
   "name": "python",
   "nbconvert_exporter": "python",
   "pygments_lexer": "ipython3",
   "version": "3.10.0"
  }
 },
 "nbformat": 4,
 "nbformat_minor": 5
}
